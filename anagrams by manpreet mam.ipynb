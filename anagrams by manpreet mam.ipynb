{
 "cells": [
  {
   "cell_type": "code",
   "execution_count": 12,
   "id": "54d20c90",
   "metadata": {},
   "outputs": [
    {
     "name": "stdout",
     "output_type": "stream",
     "text": [
      "['w', 'd', 'r', 'o']\n"
     ]
    }
   ],
   "source": [
    "x=\"word\"\n",
    "y=list(x)\n",
    "def anagram(list,pos1,pos2):\n",
    "    list[pos1],list[pos2]=list[pos2],list[pos1]\n",
    "    return list\n",
    "z=anagram(y,1,3)\n",
    "print(y)"
   ]
  },
  {
   "cell_type": "code",
   "execution_count": 13,
   "id": "4688fd85",
   "metadata": {},
   "outputs": [
    {
     "name": "stdout",
     "output_type": "stream",
     "text": [
      "w d r o\n"
     ]
    }
   ],
   "source": [
    "str=\" \"\n",
    "print(str.join(y))"
   ]
  },
  {
   "cell_type": "code",
   "execution_count": 2,
   "id": "b142aa6c",
   "metadata": {},
   "outputs": [
    {
     "name": "stdout",
     "output_type": "stream",
     "text": [
      "its an anagram\n"
     ]
    }
   ],
   "source": [
    "x=\"bored\"\n",
    "y=\"robed\"\n",
    "a=sorted(x)\n",
    "b=sorted(y)\n",
    "if a==b:\n",
    "    print(\"its an anagram\")\n",
    "else:\n",
    "    print(\"not\")"
   ]
  },
  {
   "cell_type": "code",
   "execution_count": 20,
   "id": "fd086adb",
   "metadata": {},
   "outputs": [
    {
     "name": "stdout",
     "output_type": "stream",
     "text": [
      "its an anagram\n"
     ]
    }
   ],
   "source": [
    "x=\"bored\"\n",
    "y=\"Robed\"\n",
    "p=x.lower()\n",
    "q=y.lower()\n",
    "a=sorted(p)\n",
    "b=sorted(q)\n",
    "if a==b:\n",
    "    print(\"its an anagram\")\n",
    "else:\n",
    "    print(\"not\")"
   ]
  },
  {
   "cell_type": "code",
   "execution_count": 29,
   "id": "43f2058f",
   "metadata": {},
   "outputs": [
    {
     "name": "stdout",
     "output_type": "stream",
     "text": [
      "   ape\n",
      "   pea\n",
      "its an anagram\n"
     ]
    }
   ],
   "source": [
    "x=input(\"   \")\n",
    "y=input(\"   \")\n",
    "z=x.lower()\n",
    "v=y.lower()\n",
    "a=sorted(x)\n",
    "b=sorted(y)\n",
    "if a==b:\n",
    "    print(\"its an anagram\")\n",
    "else:\n",
    "    print(\"not\")"
   ]
  },
  {
   "cell_type": "code",
   "execution_count": null,
   "id": "c3f8c9f3",
   "metadata": {},
   "outputs": [],
   "source": []
  }
 ],
 "metadata": {
  "kernelspec": {
   "display_name": "Python 3 (ipykernel)",
   "language": "python",
   "name": "python3"
  },
  "language_info": {
   "codemirror_mode": {
    "name": "ipython",
    "version": 3
   },
   "file_extension": ".py",
   "mimetype": "text/x-python",
   "name": "python",
   "nbconvert_exporter": "python",
   "pygments_lexer": "ipython3",
   "version": "3.11.5"
  }
 },
 "nbformat": 4,
 "nbformat_minor": 5
}
